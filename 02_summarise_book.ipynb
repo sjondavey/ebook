{
 "cells": [
  {
   "cell_type": "markdown",
   "metadata": {},
   "source": [
    "I have placed some of the less interesting code in the `convert_book_to_text.py` file to try to keep the notebook flowing"
   ]
  },
  {
   "cell_type": "code",
   "execution_count": 2,
   "metadata": {},
   "outputs": [],
   "source": [
    "##for the reload of all the functions in the file convert_pdf_to_text.py\n",
    "from importlib import reload\n",
    "import convert_book_to_text\n",
    "\n",
    "reload(convert_book_to_text)\n",
    "from convert_book_to_text import find_chapter_pages, \\\n",
    "                                 find_page_starting_with,\\\n",
    "                                 extract_text_from_pages_inclusive, \\\n",
    "                                 build_chapter_dictionary, \\\n",
    "                                 remove_chapter_header, \\\n",
    "                                 chunk_text, \\\n",
    "                                 find_bad_csv_files\n"
   ]
  },
  {
   "cell_type": "markdown",
   "metadata": {},
   "source": [
    "For copyright reasons I have not included the ebook in the repo. You should buy your own copy if you want to run this code"
   ]
  },
  {
   "cell_type": "code",
   "execution_count": 3,
   "metadata": {},
   "outputs": [],
   "source": [
    "from pathlib import Path\n",
    "import PyPDF2\n",
    "\n",
    "input_file = Path('./inputs/Truth to Power_ My Three Years Inside Eskom.pdf')\n",
    "input_file = Path(input_file)\n",
    "# Instantiate PdfReader object\n",
    "pdf = PyPDF2.PdfReader(input_file)\n"
   ]
  },
  {
   "cell_type": "code",
   "execution_count": 4,
   "metadata": {},
   "outputs": [],
   "source": [
    "# This is very specific to the format of the book I am precessing. Not making this general is a design decision. This repo needs back and forward with a human\n",
    "# to work so spending too much time generalising functions seems like a waste of time.\n",
    "\n",
    "# Note: This is quite slow. It takes about 30 seconds to run on my machine.\n",
    "pages_with_numbers = find_chapter_pages(pdf)\n",
    "pages_with_numbers.append(find_page_starting_with(pdf, \"Index\"))\n",
    "# Create a dictionary where each chapter is saved with its start and end page\n",
    "chapter_start_and_end = build_chapter_dictionary(pages_with_numbers)"
   ]
  },
  {
   "cell_type": "markdown",
   "metadata": {},
   "source": [
    "The main loop. Chapters start at 1 and end at 31. chapter_range_end should be set to the number after the last chapter you want to process so, if you are processing the last chapter, chapter 31, only you would set `chapter_range_start = 31` and `chapter_range_end = 32`.\n",
    "\n",
    "The output of this is a list of CSV files in the folder `./output/`. A separate file is created for each chunk. \n",
    "\n",
    "The function sets a chunk size of 800 words. There is no science in determining how long this should be but we need to ensure there are sufficient tokens for the input, the system command and the output. I started with a chunk size of 1000 words but I found there were times where GPT3.5 would truncate the output. 800 seemed reasonable. "
   ]
  },
  {
   "cell_type": "code",
   "execution_count": 5,
   "metadata": {},
   "outputs": [
    {
     "ename": "ImportError",
     "evalue": "cannot import name 'save_people_named_in_chapters' from 'summarise' (e:\\Code\\pdf\\ebook\\summarise.py)",
     "output_type": "error",
     "traceback": [
      "\u001b[1;31m---------------------------------------------------------------------------\u001b[0m",
      "\u001b[1;31mImportError\u001b[0m                               Traceback (most recent call last)",
      "Cell \u001b[1;32mIn[5], line 5\u001b[0m\n\u001b[0;32m      2\u001b[0m \u001b[38;5;28;01mimport\u001b[39;00m \u001b[38;5;21;01msummarise\u001b[39;00m\n\u001b[0;32m      4\u001b[0m reload(summarise)\n\u001b[1;32m----> 5\u001b[0m \u001b[38;5;28;01mfrom\u001b[39;00m \u001b[38;5;21;01msummarise\u001b[39;00m \u001b[38;5;28;01mimport\u001b[39;00m save_people_named_in_chapters, \\\n\u001b[0;32m      6\u001b[0m                                combine_csvs, \\\n\u001b[0;32m      7\u001b[0m                                aggregate_sentiment\n",
      "\u001b[1;31mImportError\u001b[0m: cannot import name 'save_people_named_in_chapters' from 'summarise' (e:\\Code\\pdf\\ebook\\summarise.py)"
     ]
    }
   ],
   "source": [
    "# from importlib import reload\n",
    "# import summarise\n",
    "\n",
    "# reload(summarise)\n",
    "# from summarise import save_people_named_in_chapters, \\\n",
    "#                                combine_csvs, \\\n",
    "#                                aggregate_sentiment"
   ]
  },
  {
   "cell_type": "code",
   "execution_count": 27,
   "metadata": {},
   "outputs": [
    {
     "name": "stdout",
     "output_type": "stream",
     "text": [
      "processing chapter:  25 from page 178 to page 183\n",
      "processing chunk 0 out of 4\n",
      "processing chunk 1 out of 4\n",
      "processing chunk 2 out of 4\n",
      "processing chunk 3 out of 4\n",
      "processing chapter:  26 from page 184 to page 193\n",
      "processing chunk 0 out of 6\n",
      "processing chunk 1 out of 6\n",
      "processing chunk 2 out of 6\n",
      "processing chunk 3 out of 6\n",
      "processing chunk 4 out of 6\n",
      "processing chunk 5 out of 6\n",
      "processing chapter:  27 from page 194 to page 203\n",
      "processing chunk 0 out of 6\n",
      "processing chunk 1 out of 6\n",
      "processing chunk 2 out of 6\n",
      "processing chunk 3 out of 6\n",
      "processing chunk 4 out of 6\n",
      "processing chunk 5 out of 6\n",
      "processing chapter:  28 from page 204 to page 208\n",
      "processing chunk 0 out of 3\n",
      "processing chunk 1 out of 3\n",
      "processing chunk 2 out of 3\n",
      "processing chapter:  29 from page 209 to page 212\n",
      "processing chunk 0 out of 3\n",
      "processing chunk 1 out of 3\n",
      "processing chunk 2 out of 3\n",
      "processing chapter:  30 from page 213 to page 218\n",
      "processing chunk 0 out of 4\n",
      "processing chunk 1 out of 4\n",
      "processing chunk 2 out of 4\n",
      "processing chunk 3 out of 4\n",
      "processing chapter:  31 from page 219 to page 226\n",
      "processing chunk 0 out of 5\n",
      "processing chunk 1 out of 5\n",
      "processing chunk 2 out of 5\n",
      "processing chunk 3 out of 5\n",
      "processing chunk 4 out of 5\n"
     ]
    }
   ],
   "source": [
    "import openai\n",
    "\n",
    "output_folder = \"./summary_details\"\n",
    "# create the Path object and the folder if it doesn't exist\n",
    "folder_path = Path(output_folder)\n",
    "folder_path.mkdir(parents=True, exist_ok=True)\n",
    "#folder_path = Path(output_folder)\n",
    "\n",
    "chapter_range_start = 1\n",
    "chapter_range_end = 2\n",
    "\n",
    "system_prompt = \"You will be presented with an extract from a book. You need to summarise this text into a short paragraph.\"\n",
    "\n",
    "for i in range(chapter_range_start, chapter_range_end):\n",
    "        chapter_number = i\n",
    "        start = chapter_start_and_end[i][\"start_page\"]\n",
    "        end = chapter_start_and_end[i][\"end_page\"]\n",
    "\n",
    "        print(\"processing chapter: \", str(chapter_number) + \" from page \" + str(start) + \" to page \" + str(end))\n",
    "        text = remove_chapter_header(extract_text_from_pages_inclusive(pdf, start, end))\n",
    "        chunked_text = chunk_text(text, 1000)\n",
    "\n",
    "        for chunk in chunked_text:\n",
    "            #create a filename using folder_pah + \"chapter\" + chapter_number + \"_\" + index of chunk + \".csv\"\n",
    "            filename = folder_path / (\"chapter_\" + str(chapter_number) + \"_\" + str(chunked_text.index(chunk)) + \".txt\")\n",
    "            if not Path(filename).exists():\n",
    "                print(\"processing chunk \" + str(chunked_text.index(chunk)) + \" out of \" + str(len(chunked_text)))\n",
    "                response = openai.ChatCompletion.create(\n",
    "                    model=\"gpt-3.5-turbo\",\n",
    "                    messages=[\n",
    "                        {\"role\": \"system\", \"content\": system_prompt},\n",
    "                        {\"role\": \"user\", \"content\": chunk},\n",
    "                    ]\n",
    "                )\n",
    "                # write the value in response['choices'][0]['message']['content'] to the file with the name chapter_name_i.csv where i is the index of the chunk\n",
    "                with open(filename, \"w\", encoding='utf-8') as f:\n",
    "                    f.write(response['choices'][0]['message']['content'])\n",
    "            else:\n",
    "                print(\"The file \" + str(filename) + \" already exists so skipping it\")\n",
    "  \n",
    "\n",
    "\n"
   ]
  },
  {
   "cell_type": "code",
   "execution_count": 57,
   "metadata": {},
   "outputs": [
    {
     "name": "stdout",
     "output_type": "stream",
     "text": [
      "25\n",
      "processing chapter:  25\n",
      "reading file : summary_details\\chapter_25_0.txt\n",
      "reading file : summary_details\\chapter_25_1.txt\n",
      "reading file : summary_details\\chapter_25_2.txt\n",
      "reading file : summary_details\\chapter_25_3.txt\n",
      "This extract describes how the author, Andre de Ruyter, had to adjust to living with extensive security arrangements while leading Eskom. Despite the extra precautions, de Ruyter enjoyed interacting with regular South Africans, who often encouraged him to persevere in his role. De Ruyter's bodyguards carefully planned his social engagements and checked locations before he arrived. The extract also recounts the gratitude de Ruyter felt when he had the chance to do something positive for people's lives, whether customers or employees at Eskom.\n",
      "The author received an email from an 11-year-old schoolgirl asking for his thoughts on green energy. Despite being a busy CEO, he replied and addressed her formally. Months later, the girl's father, who was the general manager at Mitsubishi South Africa, approached the author and said that he was his daughter's biggest hero. The father asked for a selfie with the author, which he fondly remembers. Despite receiving criticism and being called useless by some, the author felt encouraged by the support he received for his long-term plans for Eskom. Nevertheless, by September 2022, the author felt that his situation was becoming untenable as he faced immense pressure from certain opposition parties and the ANC's RET faction to do something drastic about the power crisis.\n",
      "In this excerpt, the author reflects on a difficult time in his tenure as CEO of Eskom, the South African electricity company. He describes the eroding political support for his position due to frequent power outages and a strained relationship with Pravin Gordhan, the minister of public enterprises. The author recounts a meeting in which Gordhan criticized Eskom, and the CEO was willing to resign in response. There is further discussion among political figures about the impact of the power outages on the ANC's political future, and the author expresses doubts about the sustainability of his position in light of corruption scandals and other challenges facing the company.\n",
      "The job was having a negative impact on the family life of the person speaking in the extract. Weekends were no longer a thing, and they were missing out on family events and holidays. The pressures of work were always nearby, and their daughter had to reject an internship opportunity because the company had business with the company they worked for. Personal safety was also a concern, after several assassinations of whistle-blowers who exposed corruption, as it could be the result of the corrupt money flowing through the sewers.\n",
      "\n",
      "26\n",
      "processing chapter:  26\n",
      "reading file : summary_details\\chapter_26_0.txt\n",
      "reading file : summary_details\\chapter_26_1.txt\n",
      "reading file : summary_details\\chapter_26_2.txt\n",
      "reading file : summary_details\\chapter_26_3.txt\n",
      "reading file : summary_details\\chapter_26_4.txt\n",
      "reading file : summary_details\\chapter_26_5.txt\n",
      "The author describes a helicopter trip to the Kusile power station in a state of loadshedding crisis. The author is dressed in overalls and safety boots while the plant manager is dressed formally and not prepared for a site visit. The author becomes frustrated with the lack of urgency exhibited by the senior staff members and calls for the meeting to begin. The author becomes increasingly agitated as messages about failing generating units come in and coal quality is discussed. The author becomes angry with the coal manager, who continues to eat while being questioned, and ultimately rebukes him for not doing his job. The issue of poor-quality coal, which leads to broken mills and excessive fuel oil use, is described, as well as the corruption involved in obtaining and delivering it. The author discusses the extra effort and expense required to combat these issues.\n",
      "The extract describes a meeting with the managers of the Kusile power plant, during which the author points out the poor quality of coal used to generate electricity. The author tells the managers that there are measures they could take to ensure that sub-par coal is not used, such as automatic quality-control machines. Additionally, the author stresses the importance of managing the streams of coal, water, emissions and ash that power plants produce. The author criticizes the Kusile managers for their poor management and strategic planning, which led to a crisis when the plant ran out of coal a month earlier. The author offers solutions, such as building a coal conveyor from the mine, but is frustrated with the lack of action from the managers. The author later visits the Kendal power plant, finding it to be well-maintained.\n",
      "The author visits the Kendal power station, where the plant manager admits that there is \"a lot of work to be done.\" At a mass meeting with the workers, the author offers inspiration and patriotism and challenges one union leader to explain loadshedding to 'the gogos, the matriculants in the townships who cannot study because you are not doing your job.' Another issue crops up during this meeting, as union leaders are unsatisfied with their salaries. The author questions whether this admission from staff contributes even more to Eskom's ability to save itself, especially if members of staff are unwilling to engineer improvement in their power plants out of dissatisfaction with their working conditions. The author also visits Majuba Power Station, which suffered from corruption in the procurement process. As the Eskom CEO, it is clear that micromanaging the workforce is not feasible with over 40,000 employees to oversee.\n",
      "The Kriel plant has turned its housekeeping around and won the award for best-maintained power plant. The change was implemented by a new station manager, regardless of gender or race, emphasizing the importance of attitude, purpose and mentality in driving excellence. However, during a visit to the Camden power station in September 2022, the plant had been taken offline due to water contamination. Suspicions were raised that someone had opened a valve to let dirty water into the system. When the plant manager was contacted, they were resting at home outside of site. On arrival at the plant, poor housekeeping and tight gate security further complicated the issue.\n",
      "In his book 'At the deep end', Eskom's former CEO, Matshela Koko, describes his visit to a water treatment plant, following an incident. A valve was left open for eleven days causing water shortages in Johannesburg; the problem was found to have originated from this water treatment plant. The CEO discovered that the project designed to eliminate human error had been cancelled; it had been deemed a single point of failure. Koko also found a leadership gap when the station manager could not be found to have visited the plant before or after the incident. Koko's investigation found many examples of neglectful housekeeping, the accumulation of a lot of rubbish and dust across control stations, and revealed a complete lack of leadership which had led to an unexpected outage.\n",
      "During a Gemba walk, the author discovered that Eskom was lacking in leadership. The workers were lounging about on the grass, and their superiors were failing to provide guidance and attention. On the walk, the author emphasised the importance of starting with the basics and fixing small problems before they escalate into big issues. After her talk, the water purification manager disclosed that Camden workers had suddenly stopped following orders when load-shedding levels increased. The author’s inspection led to the Camden water plant’s repair, suggesting that leadership needs to be more hands-on to address Eskom’s issues.\n",
      "\n",
      "27\n",
      "processing chapter:  27\n",
      "reading file : summary_details\\chapter_27_0.txt\n",
      "reading file : summary_details\\chapter_27_1.txt\n",
      "reading file : summary_details\\chapter_27_2.txt\n",
      "reading file : summary_details\\chapter_27_3.txt\n",
      "reading file : summary_details\\chapter_27_4.txt\n",
      "reading file : summary_details\\chapter_27_5.txt\n",
      "After a difficult month for Eskom, the company's board was under intense scrutiny from both politicians and social media, with many calling for chairman Professor Malegapuru Makgoba and the rest of the board to be replaced. Pravin Gordhan was under pressure to act, and while rumours swirled that the board would be replaced, he did not formally consult with anyone. During a press conference, Gordhan announced the new board members and apologised for his actions. Professor Makgoba was replaced by Mpho Makwana, with many of the new appointments being confidants of Gordhan. Gordhan was already in the habit of getting involved in operational minutiae, bypassing the board, the CEO, and other senior managers at Eskom.\n",
      "The extract describes the author's frustration with the new non-executive chairman of Eskom, Mpho, and his management approach. The author believes that Mpho is not being entirely truthful, micromanaging him with unnecessary weekly goals and making statements to the press without consulting with management. The author also notes that Mpho is delaying important decisions and disregarding common practices. This includes signing letters to ministers and approving an international trip for the CEO. The author suggests that Mpho should focus on long-term strategy and work collaboratively with management instead of micromanaging.\n",
      "After being awarded a nearly R9-billion loan to accelerate South Africa's decarbonisation, the CEO of Eskom couldn't get his overseas trip approved due to the process stalled on Mpho's desk, for approval from the full board. At the first meeting of the new Eskom board, Mpho presented an outdated presentation from 2010. Some members were not up-to-date on energy issues, and a new pattern of micromanaging Eskom's operations had developed. The new board also wanted to have a business and operations committee, which was highly unusual for a non-executive board. The meeting focused on the CEO's monthly board report, but one of the new board members suggested that loadshedding should be preceded by a board decision.\n",
      "The extract describes a board meeting at Eskom where the issue of loadshedding was discussed. The former chief nuclear officer Clive le Roux emphasised that the board should focus on long-term planning and leave day-to-day management decisions to the management team. The board also discussed vetting by the State Security Agency, which was not deemed mission-critical, and the CEO's travel arrangements. The board's meddlesome behaviour led to a lack of trust in top management, and their involvement in routine details demonstrated that they did not fully understand their roles. There were also concerns over state control when the Treasury officials asked Eskom not to send out a press release about a loan, as it may impact the ANC's leadership election.\n",
      "This extract highlights the inefficiencies and internal issues at Eskom. The non-executive board members waste time by contacting employees who are experts in their narrow field but don't have a big enough picture to make an impact, causing incomplete information. The green energy projects had warning signs everywhere, and the head of the green energy program, Mandy, resigned after being taken for granted by the government. The government officials lacked HR skills, and their employees were widely under-appreciated. The focus was on dealing with cadres seeking deployment, rather than retaining key employees. The boardroom battles continued while operational disasters kept piling up, with Kusile and Medupi power stations built hastily and shoddily. Due to lower quality coal and boiler defects, Kusile had a higher risk of ash and slurry carryover into the stack, with an inexperienced team running the flue gas desulphurisation unit.\n",
      "Poor project management and inadequate communication between companies led to a build-up of ash, limestone and gypsum in a lobster joint in Eskom's power station, causing it to collapse and three units to shut down. This will lead to a delay of a year and 2,000 MW being unavailable. The disaster could have been prevented if the system's mass balance had been determined. The gypsum will eventually be sold off to manufacturers of ceiling and partition boards.\n",
      "\n",
      "28\n",
      "processing chapter:  28\n",
      "reading file : summary_details\\chapter_28_0.txt\n",
      "reading file : summary_details\\chapter_28_1.txt\n",
      "reading file : summary_details\\chapter_28_2.txt\n",
      "The protagonist, who is the CEO of Eskom, is having a formal performance review with Mpho Makwana, who is Flip-flopping with documents, leaving them unsigned and unactioned. Despite being aware of the impending results of this review being shared publicly and the new board's promises of accountability, the protagonist interrupts the review to submit his resignation letter. He had already polished his resignation letter as he saw there was no reasonable prospect of working productively with the new board, with the political support evaporating, and the previous board fired. Furthermore, the new board had unusual governance that bypassed the chain of command, and their demands blurred the lines between non-executive directors and executive management.\n",
      "Former Eskom CEO André de Ruyter discusses the corruption endemic within the organisation and South African society more broadly. He highlights how the profits of corrupt individuals support the failure of state-owned enterprises and argues that corruption within South Africa has become so dominant that it has begun to fail the system which feeds it. Further, he explains that his efforts to combat corruption were becoming too successful for some, with investigations implicating high-ranking politicians, leading to extreme scrutiny from intelligence agencies.\n",
      "The extract describes the author's resignations as Eskom CEO and the events leading up to it. The author expresses concern over corruption at Eskom involving high-level government officials and the Department of Mineral Resources and Energy. The author is also frustrated with Mantashe's accusation that Eskom was 'actively agitating for the overthrow of the state' and is considering resigning due to his integrity being impugned. After submitting his resignation letter, the author agrees to stay on for an additional month to allow for the board to find a suitable successor.\n",
      "\n",
      "29\n",
      "processing chapter:  29\n",
      "reading file : summary_details\\chapter_29_0.txt\n",
      "reading file : summary_details\\chapter_29_1.txt\n",
      "reading file : summary_details\\chapter_29_2.txt\n",
      "During an important meeting about loadshedding attended by the president and several ministers, including Pravin Gordhan, Gwede Mantashe, and Barbara Creecy, the CEO of Eskom emphasized the need for additional generation capacity, stating that Eskom was not the supplier of last resort of electricity to South Africa, which was the responsibility of Mantashe's department. He also took issue with the government's policy of prohibiting payment of incentives to managerial staff, which was adversely affecting morale and employee retention. Mantashe, in turn, blamed Eskom for not building new capacity and criticized the CEO for asking for incentives during loadshedding. The meeting ended with little prospect of a solution, but scapegoating of Eskom achieved.\n",
      "The author of this extract was poisoned with cyanide which was likely added to his coffee. He began to feel sick at work and was escorted to the doctor by colleagues and had his blood tested. After being sent home, he slept for 18 hours and received the news via WhatsApp that he had been poisoned in all probability by cyanide. The results from the third blood test showed conclusively that the author had ingested cyanide. The author's cyanide levels had been obscured with the addition of sodium arsenite which has the effect of masking the cyanide in a blood test.\n",
      "In 2023, a journalist, Chris Yelland, contacted the author, who had kept quiet about being poisoned, with the intention of publishing. Simultaneously, another journalist, Erika Gibson, contacted the author with the same news. The author then informed Pravin Gordhan and Mpho Makwana about the situation, with Gordhan showing concern and making an effort to visit the author. However, Mpho's response was dismissive.\n",
      "\n",
      "30\n",
      "processing chapter:  30\n",
      "reading file : summary_details\\chapter_30_0.txt\n",
      "reading file : summary_details\\chapter_30_1.txt\n",
      "reading file : summary_details\\chapter_30_2.txt\n",
      "reading file : summary_details\\chapter_30_3.txt\n",
      "An alleged assassination attempt on the head of a national power utility, the South African author of the book, being interviewed by two female sergeants on the case, complained of their lack of comprehension regarding the seriousness of the case. Based on their apparent ignorance of the difference between 'cyanide and sinuses,' and despite his showing them the word cyanide in his statement, he cut short the interview, calling it a 'debacle,' and opted to hire a private investigator and forensic analyst and launched his own investigation. Moreover, the core evidence, including the personalized mug, led to further investigations revealing that he may have been poisoned with some kind of insecticide as opposed to cyanide.\n",
      "Following a series of frustrations including being poisoned and humiliated by the chairman, the former CEO of Eskom gave an explosive interview with Annika Larsen of eNCA where he shared findings from his private investigation, revealing the existence of four criminal cartels targeting Eskom in Mpumalanga and the link to a \"senior politician\". He later regrets giving the green light for the interview to air ahead of schedule, as the ANC threatened legal action for making accusations of corruption against them. Despite this, he stands by his statements and says he was speaking truth to power.\n",
      "Former Eskom CEO, Matshela Koko, was urged by South African politicians to stay out of open political debates once he resigned from his position. Koko, however, stated that he is not a “right-wing” politician nor does he entertain open political debates as CEO of Eskom. Koko is worried about his security, stating that after his disclosures about Eskom’s corruption, he was told that the cartels were angry with him and believed that he knew too much. Koko agreed to resign in 2017 to “relieve pressure on the fiscus” and for enabling private sector investment, reducing the need for Treasury guarantees.\n",
      "The author disabled their SIM card before travelling to Cape Town by private plane, accompanied by armed guards and a colleague. They had prepared legal defenses and a code to call for assistance if needed. At the airport, they managed to avoid recognition, and their passport was stamp soon. The author reflects on the risks and difficulties of speaking truth to power and the unpleasant truth that those in power don't enjoy being held accountable.\n",
      "\n",
      "31\n",
      "processing chapter:  31\n",
      "reading file : summary_details\\chapter_31_0.txt\n",
      "reading file : summary_details\\chapter_31_1.txt\n",
      "reading file : summary_details\\chapter_31_2.txt\n",
      "reading file : summary_details\\chapter_31_3.txt\n",
      "reading file : summary_details\\chapter_31_4.txt\n",
      "In his book, \"The Eskom Inquiry: A Judge’s Journal\", South African Judge Raymond Zondo, describes his time investigating allegations of corruption at the state power company, Eskom. Zondo says that he had misjudged the severity of the task, which had suffered from historic state neglect and a lack of investment in infrastructure. The government had also ignored warnings that the situation was urgent, and had mismanaged funds. Zondo believed that Eskom's problems could be fixed with proper management; however, his experience highlighted internal issues, such as racial quotas and a lack of professionalism, which also contributed to its problems.\n",
      "The potential catastrophic effects of a total grid collapse make it imperative that power utilities operate within a 15% margin of safety. Maintenance, safety, and discipline are top priorities in ensuring reliable operations for power stations while the income statement must be properly managed, preferably by securing cost-reflective tariffs. Corruption and fraud within the system hinder the progress towards achieving a culture of excellence and values-driven leadership.\n",
      "This passage discusses the progress made in the unbundling of Eskom and the transition to a competitive electricity market in South Africa. The author advocates for bidding farewell to the outdated idea of a vertically integrated monopolistic utility and highlights the benefits of private sector involvement in generation capacity. The author also stresses the importance of improving and expanding the grid and addressing the culture of non-payment to ensure the success of this transition. Furthermore, the author notes the challenges posed by repeated policy flip-flops and government bureaucracy in resolving this crisis. Nevertheless, the author remains optimistic about the future of renewable energy in South Africa and the potential for significantly increased generation capacity from green power projects.\n",
      "Despite government inaction, the private sector has been adding massive capacity to South Africa's power grid at no cost to Eskom or taxpayers, largely in the form of renewable energy projects. However, the author notes that Eskom's board and the Department of Mineral Resources and Energy have been resistant to some innovations, while bureaucracy and corruption have undermined efforts to bring about positive change. Nonetheless, the author takes pride in having helped to curb the rampant corruption at the utility, and he notes that Eskom's culture has shifted under new leadership. Ultimately, the author recognizes that success depends on collective action rather than individual efforts.\n",
      "The author believes that South Africa has the potential to overcome its energy crisis as it has done in the past. Leadership requires doing the right thing, and a clear setting of direction for a new growth path is necessary in the country. The author acknowledges their own efforts in trying to address the crisis and encourages their successors to build on the building blocks that have been laid. The author also addresses the possibility of failure and assures that it is important to have tried.\n",
      "\n"
     ]
    }
   ],
   "source": [
    "input_folder = \"./summary_details\"\n",
    "output_folder = \"./summary_chapter\"\n",
    "# create the Path object and the folder if it doesn't exist\n",
    "folder_path = Path(output_folder)\n",
    "folder_path.mkdir(parents=True, exist_ok=True)\n",
    "#folder_path = Path(output_folder)\n",
    "\n",
    "chapter_range_start = 25\n",
    "chapter_range_end = 32\n",
    "\n",
    "system_prompt = \"A book chapter has been divided into sections and each section summarised. You need to combine these summaries into a single summary of the chapter.\"\n",
    "\n",
    "for i in range(chapter_range_start, chapter_range_end):\n",
    "        print(i)\n",
    "        chapter_number = i\n",
    "        print(\"processing chapter: \", str(chapter_number))\n",
    "        chapter_summary = \"\"\n",
    "        # search the input folder for all files that start with \"chapter_\" + str(chapter_number) and concatenate them into a single string\n",
    "        for file in Path(input_folder).glob(\"chapter_\" + str(chapter_number) + \"_\" + \"*\" + \".txt\"):\n",
    "            with open(file, \"r\", encoding='utf-8') as f:\n",
    "                print(\"reading file : \" + str(file))\n",
    "                # Concatenate the f.read() string to chapter_summary\n",
    "                chapter_summary = chapter_summary + f.read() + \"\\n\"\n",
    "\n",
    "        print(chapter_summary)\n",
    "        # print(\"**********\")\n",
    "\n",
    "        #create a filename using folder_pah + \"chapter\" + chapter_number + \"_\" + index of chunk + \".csv\"\n",
    "        filename = folder_path / (\"chapter_\" + str(chapter_number) + \".txt\")\n",
    "        if not Path(filename).exists():\n",
    "            response = openai.ChatCompletion.create(\n",
    "                model=\"gpt-3.5-turbo\",\n",
    "                messages=[\n",
    "                    {\"role\": \"system\", \"content\": system_prompt},\n",
    "                    {\"role\": \"user\", \"content\": chapter_summary},\n",
    "                ]\n",
    "            )\n",
    "            # write the value in response['choices'][0]['message']['content'] to the file with the name chapter_name_i.csv where i is the index of the chunk\n",
    "            with open(filename, \"w\", encoding='utf-8') as f:\n",
    "                f.write(response['choices'][0]['message']['content'])\n",
    "        else:\n",
    "            print(\"The file \" + str(filename) + \" already exists so skipping it\")\n",
    "  "
   ]
  },
  {
   "cell_type": "code",
   "execution_count": 29,
   "metadata": {},
   "outputs": [],
   "source": [
    "output_folder = \"./summary_chapter\"\n",
    "# Read all the files in the output folder and combine them into a single string\n",
    "book_summary = \"\"\n",
    "for file in Path(output_folder).glob(\"chapter_*\"):\n",
    "    with open(file, \"r\", encoding='utf-8') as f:\n",
    "        # Concatenate the f.read() string to chapter_summary\n",
    "        book_summary = book_summary + f.read() + \"\\n\"\n",
    "\n"
   ]
  },
  {
   "cell_type": "code",
   "execution_count": 30,
   "metadata": {},
   "outputs": [
    {
     "name": "stdout",
     "output_type": "stream",
     "text": [
      "The number of words in the book summary is:  3443\n"
     ]
    }
   ],
   "source": [
    "#print the number of words in book_summary\n",
    "print(\"The number of words in the book summary is: \", len(book_summary.split(\" \")))"
   ]
  },
  {
   "cell_type": "code",
   "execution_count": 64,
   "metadata": {},
   "outputs": [
    {
     "name": "stdout",
     "output_type": "stream",
     "text": [
      "The number of tokens in the book summary is:  6944\n"
     ]
    }
   ],
   "source": [
    "encoding = tiktoken.encoding_for_model(\"gpt-3.5-turbo\")\n",
    "num_tokens = len(encoding.encode(book_summary))\n",
    "print(\"The number of tokens in the book summary is: \", num_tokens)"
   ]
  },
  {
   "cell_type": "code",
   "execution_count": 80,
   "metadata": {},
   "outputs": [],
   "source": [
    "import tiktoken\n",
    "\n",
    "def create_string_list(input_folder, threshold):\n",
    "    # Initialize tokenizer\n",
    "    #tokenizer = Tokenizer(WordLevel())\n",
    "    encoding = tiktoken.encoding_for_model(\"gpt-3.5-turbo\")\n",
    "\n",
    "    # Initialize variables\n",
    "    texts = []\n",
    "    current_text = ''\n",
    "    current_token_count = 0\n",
    "\n",
    "    # tmp = 0\n",
    "\n",
    "    # Loop over each file in the directory\n",
    "    for i in range(1, 32):  # The range is from 1 to 31 inclusive\n",
    "        file_path = Path(input_folder) / f'chapter_{i}.txt'\n",
    "\n",
    "        with open(file_path, 'r', encoding=\"utf-8\") as file:\n",
    "            file_text = file.read()\n",
    "\n",
    "            # Count tokens in the file's text\n",
    "            new_token_count = len(encoding.encode(file_text))\n",
    "            # tmp = tmp + new_token_count\n",
    "            # print(\"File \" + str(file_path) + \" is being processed. Total length in tokens is: \" + str(tmp) )\n",
    "\n",
    "            # Check if adding this text exceeds the threshold\n",
    "            if current_token_count + new_token_count > threshold:\n",
    "                # If it does, append the current text to the list and start a new one\n",
    "                texts.append(current_text)\n",
    "                current_text = file_text\n",
    "                current_token_count = new_token_count\n",
    "            else:\n",
    "                # If not, add this text to the current text\n",
    "                current_text += '\\n' + file_text\n",
    "                current_token_count += new_token_count\n",
    "\n",
    "    # Append the last text if it's not empty\n",
    "    if current_text:\n",
    "        texts.append(current_text)\n",
    "\n",
    "    return texts\n"
   ]
  },
  {
   "cell_type": "code",
   "execution_count": 86,
   "metadata": {},
   "outputs": [
    {
     "name": "stdout",
     "output_type": "stream",
     "text": [
      "2\n",
      "2028\n",
      "2021\n"
     ]
    }
   ],
   "source": [
    "all_text = create_string_list(\"./summary_chapter\", 2200) # 2200 is just trial and error to get approximately even number of tokens per list item\n",
    "print(len(all_text))\n",
    "for i in range(len(all_text)):\n",
    "    print(len(encoding.encode(all_text[i])))\n"
   ]
  },
  {
   "cell_type": "code",
   "execution_count": 95,
   "metadata": {},
   "outputs": [
    {
     "name": "stdout",
     "output_type": "stream",
     "text": [
      "The book \"Truth to Power\" features several chapters that shed light on the challenges and corruption faced by South Africa's state-owned power company, Eskom. The author, a former CEO of Eskom, describes their personal experience applying and working in the role and the importance of having selfless leadership. The chapters touch on issues such as operational culture, corruption, and procurement regulations that have contributed to Eskom's struggles. Furthermore, the book highlights the efforts of key individuals in uncovering corruption and fraud at Eskom and the need for strong, decisive leadership to address the country's challenges.\n",
      "************************\n",
      "The book \"Truth to Power\" discusses the challenges facing South Africa in its transition to green energy, including the integration of energy and environmental policies, funding for green energy projects, and the need for proactive government investment. The book also explores the issues surrounding Eskom, the state-owned electricity supplier, including corruption, debt, inefficiencies, and lack of leadership. The author highlights the difficulties faced by CEOs while leading Eskom and the challenges presented by poor-quality coal and neglectful housekeeping at power plant sites. The book concludes by recommending private sector involvement in generation capacity and providing a clear direction for a new growth path to overcome South Africa's energy crisis.\n",
      "************************\n"
     ]
    }
   ],
   "source": [
    "\n",
    "input_folder = \"./summary_chapter\"\n",
    "output_folder = \"./summary_book\"\n",
    "# create the Path object and the folder if it doesn't exist\n",
    "folder_path = Path(output_folder)\n",
    "folder_path.mkdir(parents=True, exist_ok=True)\n",
    "#folder_path = Path(output_folder)\n",
    "\n",
    "system_prompt = \"The book \\\"Truth to Power\\\" has been summarised by chapter. You need to combine the summary of several chapters into a single summary so we can eventually arrive at a summary for the entire book.\"\n",
    "\n",
    "book_summary = []\n",
    "token_limit = 3000\n",
    "\n",
    "all_text_summary = []\n",
    "\n",
    "for i in range(len(all_text)):    \n",
    "    summary_parse_1 = \"\"\n",
    "    response = openai.ChatCompletion.create(\n",
    "        model=\"gpt-3.5-turbo\",\n",
    "        messages=[\n",
    "            {\"role\": \"system\", \"content\": system_prompt},\n",
    "            {\"role\": \"user\", \"content\": all_text[i]},\n",
    "        ]\n",
    "    )\n",
    "    r = response['choices'][0]['message']['content']\n",
    "    print(r)\n",
    "    print(\"************************\")\n",
    "    summary_parse_1 = summary_parse_1 + r + \"\\n\"\n",
    "    all_text_summary.append(r)\n",
    "\n"
   ]
  },
  {
   "cell_type": "code",
   "execution_count": 99,
   "metadata": {},
   "outputs": [],
   "source": [
    "# print(summary_parse_1)\n",
    "system_prompt = \"The book \\\"Truth to Power\\\" has been summarised in sections. You need to combine these summaries into a single summary of entire book.\"\n",
    "\n",
    "# set user_content to the concatenation of all the items in the all_text_summary list separate with a newline character\n",
    "user_content = \"\"\n",
    "for i in range(len(all_text_summary)):\n",
    "    user_content = user_content + all_text_summary[i] + \"\\n\"\n",
    "\n",
    "\n",
    "filename = folder_path / (\"book_summary.txt\")\n",
    "if not Path(filename).exists():\n",
    "    response = openai.ChatCompletion.create(\n",
    "        model=\"gpt-3.5-turbo\",\n",
    "        messages=[\n",
    "            {\"role\": \"system\", \"content\": system_prompt},\n",
    "            {\"role\": \"user\", \"content\": user_content},\n",
    "        ]\n",
    "    )\n",
    "    # write the value in response['choices'][0]['message']['content'] to the file with the name chapter_name_i.csv where i is the index of the chunk\n",
    "    with open(filename, \"w\", encoding='utf-8') as f:\n",
    "        f.write(response['choices'][0]['message']['content'])\n",
    "else:\n",
    "    print(\"The file \" + str(filename) + \" already exists so skipping it\")\n"
   ]
  },
  {
   "cell_type": "code",
   "execution_count": null,
   "metadata": {},
   "outputs": [],
   "source": []
  }
 ],
 "metadata": {
  "kernelspec": {
   "display_name": "Python 3.10.4 ('env': venv)",
   "language": "python",
   "name": "python3"
  },
  "language_info": {
   "codemirror_mode": {
    "name": "ipython",
    "version": 3
   },
   "file_extension": ".py",
   "mimetype": "text/x-python",
   "name": "python",
   "nbconvert_exporter": "python",
   "pygments_lexer": "ipython3",
   "version": "3.10.4"
  },
  "orig_nbformat": 4,
  "vscode": {
   "interpreter": {
    "hash": "913cc51b0c97a871649244c70ef3bb0367d000ab952a949e1ff5c01026bbb065"
   }
  }
 },
 "nbformat": 4,
 "nbformat_minor": 2
}
